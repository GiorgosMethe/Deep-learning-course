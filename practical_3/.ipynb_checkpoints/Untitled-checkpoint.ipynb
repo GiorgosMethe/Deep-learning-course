{
 "cells": [
  {
   "cell_type": "code",
   "execution_count": null,
   "metadata": {
    "collapsed": true
   },
   "outputs": [],
   "source": [
    "1 174.762\n",
    "1000 29.8366854731\n",
    "2000 28.0596815173\n",
    "3000 27.5659433587\n",
    "4000 27.7134099452\n",
    "5000 27.1699680042\n",
    "6000 26.9978546333\n",
    "7000 26.8397067642\n",
    "8000 26.7613489405\n",
    "9000 26.74049956\n",
    "10000 26.6938225651\n",
    "11000 26.6831236966\n",
    "12000 26.5008902613\n",
    "13000 26.5934872818\n",
    "14000 26.3898829365\n",
    "15000 26.3305090014"
   ]
  }
 ],
 "metadata": {
  "kernelspec": {
   "display_name": "Python 2",
   "language": "python",
   "name": "python2"
  },
  "language_info": {
   "codemirror_mode": {
    "name": "ipython",
    "version": 2
   },
   "file_extension": ".py",
   "mimetype": "text/x-python",
   "name": "python",
   "nbconvert_exporter": "python",
   "pygments_lexer": "ipython2",
   "version": "2.7.12"
  }
 },
 "nbformat": 4,
 "nbformat_minor": 1
}
