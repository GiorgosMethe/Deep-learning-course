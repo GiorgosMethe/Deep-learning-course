{
 "cells": [
  {
   "cell_type": "code",
   "execution_count": 27,
   "metadata": {
    "collapsed": false
   },
   "outputs": [],
   "source": [
    "import numpy as np\n",
    "\n",
    "W = np.array([[0.60, 0.70, 0.00],[0.01, 0.43, 0.88]])\n",
    "w = np.array([0.02, 0.03, 0.09])\n",
    "x = np.array([[0.75,0.8],[0.2,0.05],[-0.75,0.8],[0.2,-0.05]])\n",
    "y = np.array([1, 1, -1, -1])\n",
    "\n",
    "theta = 0.2\n",
    "\n",
    "def relu(x):\n",
    "    return x*(x>0)\n",
    "\n",
    "def d_relu(x):\n",
    "    return 1*(x>0)\n",
    "\n",
    "def error(x,y):\n",
    "    return .5*(x-y)**2"
   ]
  },
  {
   "cell_type": "code",
   "execution_count": 39,
   "metadata": {
    "collapsed": false
   },
   "outputs": [
    {
     "name": "stdout",
     "output_type": "stream",
     "text": [
      "iteration:  0\n",
      "_x:  [ 0.75  0.8 ]\n",
      "_y:  1\n",
      "s_i:  [ 1.00379235  1.39911181  1.18319043]\n",
      "z_i:  [ 1.00379235  1.39911181  1.18319043]\n",
      "s_out:  1.0069987204\n",
      "z_out:  1.0069987204\n",
      "L:  2.44910435912e-05\n",
      "delta_out:  0.00699872039607\n",
      "delta_i:  [ 0.00699872  0.00699872  0.00699872]\n",
      "Delta_w:  [-0.00140505 -0.0019584  -0.00165616]\n",
      "Delta_W:  [[-0.00104981 -0.00104981 -0.00104981]\n",
      " [-0.0011198  -0.0011198  -0.0011198 ]]\n",
      "w:  [ 0.22441737  0.4481996   0.12554106]\n",
      "W:  [[ 0.76344164  1.01518875  0.8079763 ]\n",
      " [ 0.53690991  0.79504632  0.71940627]]\n",
      "\n",
      "iteration:  1\n",
      "_x:  [ 0.2   0.05]\n",
      "_y:  1\n",
      "s_i:  [ 0.17953382  0.24279007  0.19756557]\n",
      "z_i:  [ 0.17953382  0.24279007  0.19756557]\n",
      "s_out:  0.1739115089\n",
      "z_out:  0.1739115089\n",
      "L:  0.341211097564\n",
      "delta_out:  -0.8260884911\n",
      "delta_i:  [-0.82608849 -0.82608849 -0.82608849]\n",
      "Delta_w:  [ 0.02966216  0.04011322  0.03264133]\n",
      "Delta_W:  [[ 0.03304354  0.03304354  0.03304354]\n",
      " [ 0.00826088  0.00826088  0.00826088]]\n",
      "w:  [ 0.25407953  0.48831281  0.15818239]\n",
      "W:  [[ 0.79648518  1.04823229  0.84101984]\n",
      " [ 0.54517079  0.8033072   0.72766715]]\n",
      "\n",
      "iteration:  2\n",
      "_x:  [-0.75  0.8 ]\n",
      "_y:  -1\n",
      "s_i:  [-0.16122725 -0.14352846 -0.04863116]\n",
      "z_i:  [-0. -0. -0.]\n",
      "s_out:  0.0\n",
      "z_out:  0.0\n",
      "L:  0.5\n",
      "delta_out:  0.0\n",
      "delta_i:  [ 0.  0.  0.]\n",
      "Delta_w:  [ 0.  0.  0.]\n",
      "Delta_W:  [[ 0.  0.  0.]\n",
      " [-0. -0. -0.]]\n",
      "w:  [ 0.25407953  0.48831281  0.15818239]\n",
      "W:  [[ 0.79648518  1.04823229  0.84101984]\n",
      " [ 0.54517079  0.8033072   0.72766715]]\n",
      "\n",
      "iteration:  3\n",
      "_x:  [ 0.2  -0.05]\n",
      "_y:  -1\n",
      "s_i:  [ 0.1320385   0.1694811   0.13182061]\n",
      "z_i:  [ 0.1320385   0.1694811   0.13182061]\n",
      "s_out:  0.137159769944\n",
      "z_out:  0.137159769944\n",
      "L:  0.64656617119\n",
      "delta_out:  1.13715976994\n",
      "delta_i:  [ 1.13715977  1.13715977  1.13715977]\n",
      "Delta_w:  [-0.03002977 -0.03854542 -0.02998022]\n",
      "Delta_W:  [[-0.04548639 -0.04548639 -0.04548639]\n",
      " [ 0.0113716   0.0113716   0.0113716 ]]\n",
      "w:  [ 0.22404976  0.4497674   0.12820217]\n",
      "W:  [[ 0.75099878  1.0027459   0.79553345]\n",
      " [ 0.55654239  0.8146788   0.73903875]]\n",
      "\n"
     ]
    }
   ],
   "source": [
    "for i in range(4):\n",
    "    print \"sample: \", i\n",
    "    _x = x[i]\n",
    "    _y = y[i]\n",
    "    print \"_x: \", _x\n",
    "    print \"_y: \", _y\n",
    "    s_i = np.dot(_x, W)\n",
    "    z_i = relu(s_i)\n",
    "    print \"s_i: \", s_i\n",
    "    print \"z_i: \", z_i\n",
    "    # Forward pass 2\n",
    "    s_out = np.dot(z_i, w)\n",
    "    z_out = relu(s_out)\n",
    "    print \"s_out: \", s_out\n",
    "    print \"z_out: \", z_out\n",
    "    L = error(z_out, _y)\n",
    "    print \"L: \", L\n",
    "    delta_out = (z_out - _y) * d_relu(s_out)\n",
    "    delta_i = delta_out * d_relu(s_i)\n",
    "    print \"delta_out: \", delta_out\n",
    "    print \"delta_i: \", delta_i\n",
    "    Delta_w = - theta * delta_out * z_i\n",
    "    Delta_W = - theta * delta_i * _x.reshape((2,1))\n",
    "    print \"Delta_w: \", Delta_w\n",
    "    print \"Delta_W: \", Delta_W\n",
    "    w = w + Delta_w\n",
    "    W = W + Delta_W\n",
    "    print \"w: \", w\n",
    "    print \"W: \", W\n",
    "    print \"\""
   ]
  },
  {
   "cell_type": "code",
   "execution_count": null,
   "metadata": {
    "collapsed": false
   },
   "outputs": [],
   "source": []
  },
  {
   "cell_type": "code",
   "execution_count": null,
   "metadata": {
    "collapsed": false
   },
   "outputs": [],
   "source": []
  },
  {
   "cell_type": "code",
   "execution_count": null,
   "metadata": {
    "collapsed": false
   },
   "outputs": [],
   "source": []
  },
  {
   "cell_type": "code",
   "execution_count": null,
   "metadata": {
    "collapsed": false
   },
   "outputs": [],
   "source": []
  },
  {
   "cell_type": "code",
   "execution_count": null,
   "metadata": {
    "collapsed": false
   },
   "outputs": [],
   "source": []
  },
  {
   "cell_type": "code",
   "execution_count": null,
   "metadata": {
    "collapsed": false
   },
   "outputs": [],
   "source": []
  },
  {
   "cell_type": "code",
   "execution_count": null,
   "metadata": {
    "collapsed": false
   },
   "outputs": [],
   "source": []
  },
  {
   "cell_type": "code",
   "execution_count": null,
   "metadata": {
    "collapsed": false
   },
   "outputs": [],
   "source": []
  },
  {
   "cell_type": "code",
   "execution_count": null,
   "metadata": {
    "collapsed": false
   },
   "outputs": [],
   "source": []
  },
  {
   "cell_type": "code",
   "execution_count": null,
   "metadata": {
    "collapsed": true
   },
   "outputs": [],
   "source": []
  }
 ],
 "metadata": {
  "kernelspec": {
   "display_name": "Python 2",
   "language": "python",
   "name": "python2"
  },
  "language_info": {
   "codemirror_mode": {
    "name": "ipython",
    "version": 2
   },
   "file_extension": ".py",
   "mimetype": "text/x-python",
   "name": "python",
   "nbconvert_exporter": "python",
   "pygments_lexer": "ipython2",
   "version": "2.7.12"
  }
 },
 "nbformat": 4,
 "nbformat_minor": 1
}
