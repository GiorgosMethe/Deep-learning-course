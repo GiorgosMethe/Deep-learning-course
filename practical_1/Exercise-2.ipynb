{
 "cells": [
  {
   "cell_type": "code",
   "execution_count": 11,
   "metadata": {
    "collapsed": false
   },
   "outputs": [],
   "source": [
    "import numpy as np\n",
    "\n",
    "W = np.array([[0.60, 0.70, 0.00],[0.01, 0.43, 0.88]])\n",
    "w = np.array([0.02, 0.03, 0.09])\n",
    "x = np.array([[0.75,0.8],[0.2,0.05],[-0.75,0.8],[0.2,-0.05]])\n",
    "y = np.array([1, 1, -1, -1])\n",
    "\n",
    "theta = 0.5\n",
    "\n",
    "def relu(x):\n",
    "    return x*(x>0)\n",
    "\n",
    "def d_relu(x):\n",
    "    return 1*(x>0)\n",
    "\n",
    "def tanh(x):\n",
    "    return np.tanh(x)\n",
    "\n",
    "def d_tanh(x):\n",
    "    return 1.0 - tanh(x)**2\n",
    "\n",
    "def error(x,y):\n",
    "    return .5*(x-y)**2"
   ]
  },
  {
   "cell_type": "code",
   "execution_count": 12,
   "metadata": {
    "collapsed": false
   },
   "outputs": [
    {
     "name": "stdout",
     "output_type": "stream",
     "text": [
      "-Iteration:  0\n",
      "     L:  0.406556868043\n",
      "     L:  0.390413364759\n",
      "     L:  0.826131928395\n",
      "     L:  0.6012289361\n",
      "-Iteration:  1\n",
      "     L:  0.151852858502\n",
      "     L:  0.348222360025\n",
      "     L:  0.585163816613\n",
      "     L:  0.649187673749\n",
      "-Iteration:  2\n",
      "     L:  0.0629905819632\n",
      "     L:  0.330985112676\n",
      "     L:  0.526669702564\n",
      "     L:  0.669663244739\n",
      "-Iteration:  3\n",
      "     L:  0.0357748553266\n",
      "     L:  0.322367093713\n",
      "     L:  0.508495160979\n",
      "     L:  0.676521392059\n"
     ]
    }
   ],
   "source": [
    "for iteration in range(4):\n",
    "    print \"-Iteration: \", iteration\n",
    "    for i in range(4):\n",
    "#         print \"---- sample: \", i\n",
    "        _x = x[i]\n",
    "        _y = y[i]\n",
    "#         print \"     _x: \", _x\n",
    "#         print \"     _y: \", _y\n",
    "        s_i = np.dot(_x, W)\n",
    "        z_i = relu(s_i)\n",
    "#         print \"     s_i: \", s_i\n",
    "#         print \"     z_i: \", z_i\n",
    "        # Forward pass 2\n",
    "        s_out = np.dot(z_i, w)\n",
    "        z_out = tanh(s_out)\n",
    "#         print \"     s_out: \", s_out\n",
    "#         print \"     z_out: \", z_out\n",
    "        L = error(z_out, _y)\n",
    "        print \"     L: \", L\n",
    "        delta_out = (z_out - _y) * d_tanh(s_out)\n",
    "        delta_i = delta_out * w.T * d_relu(s_i)\n",
    "#         print \"     delta_out: \", delta_out\n",
    "#         print \"     delta_i: \", delta_i\n",
    "        Delta_w = - theta * delta_out * z_i\n",
    "        Delta_W = - theta * delta_i * _x.reshape((2,1))\n",
    "#         print \"     Delta_w: \", Delta_w\n",
    "#         print \"     Delta_W: \", Delta_W\n",
    "        w = w + Delta_w\n",
    "        W = W + Delta_W\n",
    "#         print \"     w: \", w\n",
    "#         print \"     W: \", W\n",
    "#         print \"\""
   ]
  },
  {
   "cell_type": "code",
   "execution_count": null,
   "metadata": {
    "collapsed": false
   },
   "outputs": [],
   "source": []
  },
  {
   "cell_type": "code",
   "execution_count": null,
   "metadata": {
    "collapsed": false
   },
   "outputs": [],
   "source": []
  },
  {
   "cell_type": "code",
   "execution_count": null,
   "metadata": {
    "collapsed": false
   },
   "outputs": [],
   "source": []
  },
  {
   "cell_type": "code",
   "execution_count": null,
   "metadata": {
    "collapsed": false
   },
   "outputs": [],
   "source": []
  },
  {
   "cell_type": "code",
   "execution_count": null,
   "metadata": {
    "collapsed": false
   },
   "outputs": [],
   "source": []
  },
  {
   "cell_type": "code",
   "execution_count": null,
   "metadata": {
    "collapsed": false
   },
   "outputs": [],
   "source": []
  },
  {
   "cell_type": "code",
   "execution_count": null,
   "metadata": {
    "collapsed": false
   },
   "outputs": [],
   "source": []
  },
  {
   "cell_type": "code",
   "execution_count": null,
   "metadata": {
    "collapsed": false
   },
   "outputs": [],
   "source": []
  },
  {
   "cell_type": "code",
   "execution_count": null,
   "metadata": {
    "collapsed": false
   },
   "outputs": [],
   "source": []
  },
  {
   "cell_type": "code",
   "execution_count": null,
   "metadata": {
    "collapsed": true
   },
   "outputs": [],
   "source": []
  }
 ],
 "metadata": {
  "kernelspec": {
   "display_name": "Python 2",
   "language": "python",
   "name": "python2"
  },
  "language_info": {
   "codemirror_mode": {
    "name": "ipython",
    "version": 2
   },
   "file_extension": ".py",
   "mimetype": "text/x-python",
   "name": "python",
   "nbconvert_exporter": "python",
   "pygments_lexer": "ipython2",
   "version": "2.7.12"
  }
 },
 "nbformat": 4,
 "nbformat_minor": 1
}
